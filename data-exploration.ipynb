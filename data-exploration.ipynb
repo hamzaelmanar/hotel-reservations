{
 "cells": [
  {
   "cell_type": "code",
   "execution_count": 954,
   "metadata": {},
   "outputs": [],
   "source": [
    "import pandas as pd\n",
    "import matplotlib.pyplot as plt\n",
    "\n",
    "## Reading data \n",
    "df = pd.read_csv(\"hotel_booking.csv\")\n"
   ]
  },
  {
   "cell_type": "code",
   "execution_count": 955,
   "metadata": {},
   "outputs": [
    {
     "data": {
      "text/plain": [
       "(119390, 36)"
      ]
     },
     "execution_count": 955,
     "metadata": {},
     "output_type": "execute_result"
    }
   ],
   "source": [
    "## Displaying all columns, and printing dataframe shape, useful for comparison after feature selection\n",
    "pd.set_option('display.max_columns', None)\n",
    "df.shape"
   ]
  },
  {
   "cell_type": "code",
   "execution_count": 956,
   "metadata": {},
   "outputs": [],
   "source": [
    "## Dropping columns with lots of missing values, completion rate threshold set to 80%\n",
    "def drop_sparse_cols(df):\n",
    "    comprate = pd.DataFrame(df.count()/df.shape[0],columns=['comprate'])\n",
    "    cleaned_df = df[list(comprate[comprate['comprate'] >= 0.8].index)]\n",
    "    return cleaned_df"
   ]
  },
  {
   "cell_type": "code",
   "execution_count": null,
   "metadata": {},
   "outputs": [
    {
     "data": {
      "text/plain": [
       "(119390, 35)"
      ]
     },
     "execution_count": 957,
     "metadata": {},
     "output_type": "execute_result"
    }
   ],
   "source": [
    "## 1 column was dropped\n",
    "cleaned_df = drop_sparse_cols(df)\n",
    "cleaned_df.shape"
   ]
  },
  {
   "cell_type": "code",
   "execution_count": 958,
   "metadata": {},
   "outputs": [
    {
     "name": "stderr",
     "output_type": "stream",
     "text": [
      "C:\\Users\\PC\\AppData\\Local\\Temp\\ipykernel_18476\\1576572801.py:2: SettingWithCopyWarning: \n",
      "A value is trying to be set on a copy of a slice from a DataFrame\n",
      "\n",
      "See the caveats in the documentation: https://pandas.pydata.org/pandas-docs/stable/user_guide/indexing.html#returning-a-view-versus-a-copy\n",
      "  cleaned_df.drop(columns=['name','email','phone-number','credit_card'],inplace=True)\n"
     ]
    }
   ],
   "source": [
    "## Drop useless columns : name, email, phone number, credit card\n",
    "cleaned_df.drop(columns=['name','email','phone-number','credit_card'],inplace=True)"
   ]
  },
  {
   "cell_type": "code",
   "execution_count": 959,
   "metadata": {},
   "outputs": [
    {
     "data": {
      "text/plain": [
       "(119390, 31)"
      ]
     },
     "execution_count": 959,
     "metadata": {},
     "output_type": "execute_result"
    }
   ],
   "source": [
    "cleaned_df.shape"
   ]
  },
  {
   "cell_type": "code",
   "execution_count": 960,
   "metadata": {},
   "outputs": [],
   "source": [
    "def cols_missing_values(df):\n",
    "    comprate = pd.DataFrame(df.count()/df.shape[0],columns=['comprate'])\n",
    "    mv = list(comprate[comprate['comprate'] < 1].index)\n",
    "    return mv, comprate[comprate['comprate'] < 1]"
   ]
  },
  {
   "cell_type": "code",
   "execution_count": 961,
   "metadata": {},
   "outputs": [
    {
     "data": {
      "text/html": [
       "<div>\n",
       "<style scoped>\n",
       "    .dataframe tbody tr th:only-of-type {\n",
       "        vertical-align: middle;\n",
       "    }\n",
       "\n",
       "    .dataframe tbody tr th {\n",
       "        vertical-align: top;\n",
       "    }\n",
       "\n",
       "    .dataframe thead th {\n",
       "        text-align: right;\n",
       "    }\n",
       "</style>\n",
       "<table border=\"1\" class=\"dataframe\">\n",
       "  <thead>\n",
       "    <tr style=\"text-align: right;\">\n",
       "      <th></th>\n",
       "      <th>comprate</th>\n",
       "    </tr>\n",
       "  </thead>\n",
       "  <tbody>\n",
       "    <tr>\n",
       "      <th>children</th>\n",
       "      <td>0.999966</td>\n",
       "    </tr>\n",
       "    <tr>\n",
       "      <th>country</th>\n",
       "      <td>0.995913</td>\n",
       "    </tr>\n",
       "    <tr>\n",
       "      <th>agent</th>\n",
       "      <td>0.863138</td>\n",
       "    </tr>\n",
       "  </tbody>\n",
       "</table>\n",
       "</div>"
      ],
      "text/plain": [
       "          comprate\n",
       "children  0.999966\n",
       "country   0.995913\n",
       "agent     0.863138"
      ]
     },
     "execution_count": 961,
     "metadata": {},
     "output_type": "execute_result"
    }
   ],
   "source": [
    "cols_mv, comprate_mv = cols_missing_values(cleaned_df)\n",
    "#print(cols_mv)\n",
    "comprate_mv"
   ]
  },
  {
   "cell_type": "code",
   "execution_count": 962,
   "metadata": {},
   "outputs": [],
   "source": [
    "import duckdb\n",
    "import pandas\n",
    "## We'll decide how to deal with each column accordingly\n",
    "# Starting with agent. Is agent a predictive variable for is_labeled ? \n",
    "# A Null agent number means the booking was made outside of an agency, so we do not drop the missing rows.\n",
    "agent_count = duckdb.sql(\"\"\"SELECT agent, count(agent) as CNT\n",
    "                        FROM cleaned_df\n",
    "                        GROUP BY agent\n",
    "                        ORDER BY CNT desc\n",
    "                     \"\"\").df()\n",
    "#cleaned_df[cleaned_df['is_canceled','agent']].corr"
   ]
  },
  {
   "cell_type": "code",
   "execution_count": 963,
   "metadata": {},
   "outputs": [
    {
     "data": {
      "text/html": [
       "<div>\n",
       "<style scoped>\n",
       "    .dataframe tbody tr th:only-of-type {\n",
       "        vertical-align: middle;\n",
       "    }\n",
       "\n",
       "    .dataframe tbody tr th {\n",
       "        vertical-align: top;\n",
       "    }\n",
       "\n",
       "    .dataframe thead th {\n",
       "        text-align: right;\n",
       "    }\n",
       "</style>\n",
       "<table border=\"1\" class=\"dataframe\">\n",
       "  <thead>\n",
       "    <tr style=\"text-align: right;\">\n",
       "      <th></th>\n",
       "      <th>agent</th>\n",
       "      <th>CNT</th>\n",
       "      <th>percentage</th>\n",
       "    </tr>\n",
       "  </thead>\n",
       "  <tbody>\n",
       "    <tr>\n",
       "      <th>0</th>\n",
       "      <td>9.0</td>\n",
       "      <td>31961</td>\n",
       "      <td>0.267702</td>\n",
       "    </tr>\n",
       "    <tr>\n",
       "      <th>1</th>\n",
       "      <td>240.0</td>\n",
       "      <td>13922</td>\n",
       "      <td>0.116609</td>\n",
       "    </tr>\n",
       "    <tr>\n",
       "      <th>2</th>\n",
       "      <td>1.0</td>\n",
       "      <td>7191</td>\n",
       "      <td>0.060231</td>\n",
       "    </tr>\n",
       "    <tr>\n",
       "      <th>3</th>\n",
       "      <td>14.0</td>\n",
       "      <td>3640</td>\n",
       "      <td>0.030488</td>\n",
       "    </tr>\n",
       "    <tr>\n",
       "      <th>4</th>\n",
       "      <td>7.0</td>\n",
       "      <td>3539</td>\n",
       "      <td>0.029642</td>\n",
       "    </tr>\n",
       "    <tr>\n",
       "      <th>5</th>\n",
       "      <td>6.0</td>\n",
       "      <td>3290</td>\n",
       "      <td>0.027557</td>\n",
       "    </tr>\n",
       "    <tr>\n",
       "      <th>6</th>\n",
       "      <td>250.0</td>\n",
       "      <td>2870</td>\n",
       "      <td>0.024039</td>\n",
       "    </tr>\n",
       "    <tr>\n",
       "      <th>7</th>\n",
       "      <td>241.0</td>\n",
       "      <td>1721</td>\n",
       "      <td>0.014415</td>\n",
       "    </tr>\n",
       "    <tr>\n",
       "      <th>8</th>\n",
       "      <td>28.0</td>\n",
       "      <td>1666</td>\n",
       "      <td>0.013954</td>\n",
       "    </tr>\n",
       "    <tr>\n",
       "      <th>9</th>\n",
       "      <td>8.0</td>\n",
       "      <td>1514</td>\n",
       "      <td>0.012681</td>\n",
       "    </tr>\n",
       "    <tr>\n",
       "      <th>10</th>\n",
       "      <td>3.0</td>\n",
       "      <td>1336</td>\n",
       "      <td>0.011190</td>\n",
       "    </tr>\n",
       "    <tr>\n",
       "      <th>11</th>\n",
       "      <td>37.0</td>\n",
       "      <td>1230</td>\n",
       "      <td>0.010302</td>\n",
       "    </tr>\n",
       "    <tr>\n",
       "      <th>12</th>\n",
       "      <td>19.0</td>\n",
       "      <td>1061</td>\n",
       "      <td>0.008887</td>\n",
       "    </tr>\n",
       "    <tr>\n",
       "      <th>13</th>\n",
       "      <td>40.0</td>\n",
       "      <td>1039</td>\n",
       "      <td>0.008703</td>\n",
       "    </tr>\n",
       "  </tbody>\n",
       "</table>\n",
       "</div>"
      ],
      "text/plain": [
       "    agent    CNT  percentage\n",
       "0     9.0  31961    0.267702\n",
       "1   240.0  13922    0.116609\n",
       "2     1.0   7191    0.060231\n",
       "3    14.0   3640    0.030488\n",
       "4     7.0   3539    0.029642\n",
       "5     6.0   3290    0.027557\n",
       "6   250.0   2870    0.024039\n",
       "7   241.0   1721    0.014415\n",
       "8    28.0   1666    0.013954\n",
       "9     8.0   1514    0.012681\n",
       "10    3.0   1336    0.011190\n",
       "11   37.0   1230    0.010302\n",
       "12   19.0   1061    0.008887\n",
       "13   40.0   1039    0.008703"
      ]
     },
     "execution_count": 963,
     "metadata": {},
     "output_type": "execute_result"
    }
   ],
   "source": [
    "agent_count['percentage'] = agent_count['CNT']/cleaned_df.shape[0]\n",
    "agent_count[agent_count['CNT'] >= 1000]"
   ]
  },
  {
   "cell_type": "code",
   "execution_count": 964,
   "metadata": {},
   "outputs": [
    {
     "name": "stderr",
     "output_type": "stream",
     "text": [
      "C:\\Users\\PC\\AppData\\Local\\Temp\\ipykernel_18476\\2444997697.py:7: SettingWithCopyWarning: \n",
      "A value is trying to be set on a copy of a slice from a DataFrame.\n",
      "Try using .loc[row_indexer,col_indexer] = value instead\n",
      "\n",
      "See the caveats in the documentation: https://pandas.pydata.org/pandas-docs/stable/user_guide/indexing.html#returning-a-view-versus-a-copy\n",
      "  cleaned_df[\"agent\"] = agent_transformed[\"t_agent\"].values\n"
     ]
    }
   ],
   "source": [
    "agent_transformed = duckdb.sql(\"\"\"SELECT agent, \n",
    "                        CASE WHEN agent IS NULL THEN 'self-reservation'\n",
    "                        ELSE CONCAT('A',CAST(CAST(agent AS INT) AS STRING))\n",
    "                        END AS t_agent\n",
    "                    FROM cleaned_df\n",
    "                 \"\"\").df()\n",
    "cleaned_df[\"agent\"] = agent_transformed[\"t_agent\"].values"
   ]
  },
  {
   "cell_type": "code",
   "execution_count": 965,
   "metadata": {},
   "outputs": [],
   "source": [
    "cleaned_df[[\"agent\",\"is_canceled\"]]\n",
    "\n",
    "to_plot = duckdb.sql(\"\"\"SELECT agent, \n",
    "                            is_canceled,\n",
    "                            COUNT(is_canceled) AS tot_count\n",
    "                        FROM cleaned_df\n",
    "                        GROUP BY agent, is_canceled\n",
    "                        ORDER BY tot_count DESC\n",
    "                    \"\"\").df()"
   ]
  },
  {
   "cell_type": "code",
   "execution_count": 966,
   "metadata": {},
   "outputs": [
    {
     "data": {
      "text/html": [
       "<div>\n",
       "<style scoped>\n",
       "    .dataframe tbody tr th:only-of-type {\n",
       "        vertical-align: middle;\n",
       "    }\n",
       "\n",
       "    .dataframe tbody tr th {\n",
       "        vertical-align: top;\n",
       "    }\n",
       "\n",
       "    .dataframe thead th {\n",
       "        text-align: right;\n",
       "    }\n",
       "</style>\n",
       "<table border=\"1\" class=\"dataframe\">\n",
       "  <thead>\n",
       "    <tr style=\"text-align: right;\">\n",
       "      <th></th>\n",
       "      <th>agent</th>\n",
       "      <th>is_canceled</th>\n",
       "      <th>tot_count</th>\n",
       "    </tr>\n",
       "  </thead>\n",
       "  <tbody>\n",
       "    <tr>\n",
       "      <th>0</th>\n",
       "      <td>A9</td>\n",
       "      <td>0</td>\n",
       "      <td>18697</td>\n",
       "    </tr>\n",
       "    <tr>\n",
       "      <th>1</th>\n",
       "      <td>A9</td>\n",
       "      <td>1</td>\n",
       "      <td>13264</td>\n",
       "    </tr>\n",
       "    <tr>\n",
       "      <th>2</th>\n",
       "      <td>self-reservation</td>\n",
       "      <td>0</td>\n",
       "      <td>12310</td>\n",
       "    </tr>\n",
       "    <tr>\n",
       "      <th>3</th>\n",
       "      <td>A240</td>\n",
       "      <td>0</td>\n",
       "      <td>8438</td>\n",
       "    </tr>\n",
       "    <tr>\n",
       "      <th>4</th>\n",
       "      <td>A240</td>\n",
       "      <td>1</td>\n",
       "      <td>5484</td>\n",
       "    </tr>\n",
       "    <tr>\n",
       "      <th>5</th>\n",
       "      <td>A1</td>\n",
       "      <td>1</td>\n",
       "      <td>5280</td>\n",
       "    </tr>\n",
       "    <tr>\n",
       "      <th>6</th>\n",
       "      <td>self-reservation</td>\n",
       "      <td>1</td>\n",
       "      <td>4030</td>\n",
       "    </tr>\n",
       "    <tr>\n",
       "      <th>7</th>\n",
       "      <td>A7</td>\n",
       "      <td>0</td>\n",
       "      <td>3065</td>\n",
       "    </tr>\n",
       "    <tr>\n",
       "      <th>8</th>\n",
       "      <td>A14</td>\n",
       "      <td>0</td>\n",
       "      <td>2988</td>\n",
       "    </tr>\n",
       "    <tr>\n",
       "      <th>9</th>\n",
       "      <td>A250</td>\n",
       "      <td>0</td>\n",
       "      <td>2357</td>\n",
       "    </tr>\n",
       "    <tr>\n",
       "      <th>10</th>\n",
       "      <td>A6</td>\n",
       "      <td>0</td>\n",
       "      <td>2265</td>\n",
       "    </tr>\n",
       "    <tr>\n",
       "      <th>11</th>\n",
       "      <td>A1</td>\n",
       "      <td>0</td>\n",
       "      <td>1911</td>\n",
       "    </tr>\n",
       "    <tr>\n",
       "      <th>12</th>\n",
       "      <td>A28</td>\n",
       "      <td>0</td>\n",
       "      <td>1556</td>\n",
       "    </tr>\n",
       "    <tr>\n",
       "      <th>13</th>\n",
       "      <td>A241</td>\n",
       "      <td>0</td>\n",
       "      <td>1485</td>\n",
       "    </tr>\n",
       "    <tr>\n",
       "      <th>14</th>\n",
       "      <td>A8</td>\n",
       "      <td>0</td>\n",
       "      <td>1087</td>\n",
       "    </tr>\n",
       "    <tr>\n",
       "      <th>15</th>\n",
       "      <td>A6</td>\n",
       "      <td>1</td>\n",
       "      <td>1025</td>\n",
       "    </tr>\n",
       "    <tr>\n",
       "      <th>16</th>\n",
       "      <td>A40</td>\n",
       "      <td>0</td>\n",
       "      <td>955</td>\n",
       "    </tr>\n",
       "    <tr>\n",
       "      <th>17</th>\n",
       "      <td>A19</td>\n",
       "      <td>1</td>\n",
       "      <td>780</td>\n",
       "    </tr>\n",
       "    <tr>\n",
       "      <th>18</th>\n",
       "      <td>A3</td>\n",
       "      <td>1</td>\n",
       "      <td>771</td>\n",
       "    </tr>\n",
       "    <tr>\n",
       "      <th>19</th>\n",
       "      <td>A314</td>\n",
       "      <td>0</td>\n",
       "      <td>764</td>\n",
       "    </tr>\n",
       "    <tr>\n",
       "      <th>20</th>\n",
       "      <td>A37</td>\n",
       "      <td>1</td>\n",
       "      <td>717</td>\n",
       "    </tr>\n",
       "    <tr>\n",
       "      <th>21</th>\n",
       "      <td>A14</td>\n",
       "      <td>1</td>\n",
       "      <td>652</td>\n",
       "    </tr>\n",
       "    <tr>\n",
       "      <th>22</th>\n",
       "      <td>A3</td>\n",
       "      <td>0</td>\n",
       "      <td>565</td>\n",
       "    </tr>\n",
       "    <tr>\n",
       "      <th>23</th>\n",
       "      <td>A29</td>\n",
       "      <td>1</td>\n",
       "      <td>546</td>\n",
       "    </tr>\n",
       "    <tr>\n",
       "      <th>24</th>\n",
       "      <td>A242</td>\n",
       "      <td>0</td>\n",
       "      <td>520</td>\n",
       "    </tr>\n",
       "    <tr>\n",
       "      <th>25</th>\n",
       "      <td>A250</td>\n",
       "      <td>1</td>\n",
       "      <td>513</td>\n",
       "    </tr>\n",
       "    <tr>\n",
       "      <th>26</th>\n",
       "      <td>A37</td>\n",
       "      <td>0</td>\n",
       "      <td>513</td>\n",
       "    </tr>\n",
       "    <tr>\n",
       "      <th>27</th>\n",
       "      <td>A83</td>\n",
       "      <td>0</td>\n",
       "      <td>507</td>\n",
       "    </tr>\n",
       "    <tr>\n",
       "      <th>28</th>\n",
       "      <td>A21</td>\n",
       "      <td>1</td>\n",
       "      <td>506</td>\n",
       "    </tr>\n",
       "  </tbody>\n",
       "</table>\n",
       "</div>"
      ],
      "text/plain": [
       "               agent  is_canceled  tot_count\n",
       "0                 A9            0      18697\n",
       "1                 A9            1      13264\n",
       "2   self-reservation            0      12310\n",
       "3               A240            0       8438\n",
       "4               A240            1       5484\n",
       "5                 A1            1       5280\n",
       "6   self-reservation            1       4030\n",
       "7                 A7            0       3065\n",
       "8                A14            0       2988\n",
       "9               A250            0       2357\n",
       "10                A6            0       2265\n",
       "11                A1            0       1911\n",
       "12               A28            0       1556\n",
       "13              A241            0       1485\n",
       "14                A8            0       1087\n",
       "15                A6            1       1025\n",
       "16               A40            0        955\n",
       "17               A19            1        780\n",
       "18                A3            1        771\n",
       "19              A314            0        764\n",
       "20               A37            1        717\n",
       "21               A14            1        652\n",
       "22                A3            0        565\n",
       "23               A29            1        546\n",
       "24              A242            0        520\n",
       "25              A250            1        513\n",
       "26               A37            0        513\n",
       "27               A83            0        507\n",
       "28               A21            1        506"
      ]
     },
     "execution_count": 966,
     "metadata": {},
     "output_type": "execute_result"
    }
   ],
   "source": [
    "to_plot[to_plot[\"tot_count\"] >= 500]"
   ]
  },
  {
   "cell_type": "code",
   "execution_count": 967,
   "metadata": {},
   "outputs": [
    {
     "data": {
      "text/plain": [
       "<seaborn.axisgrid.FacetGrid at 0x25c3cb350a0>"
      ]
     },
     "execution_count": 967,
     "metadata": {},
     "output_type": "execute_result"
    },
    {
     "data": {
      "image/png": "[encoded data removed]",
      "text/plain": [
       "<Figure size 591.486x500 with 1 Axes>"
      ]
     },
     "metadata": {},
     "output_type": "display_data"
    }
   ],
   "source": [
    "import seaborn as sns\n",
    "## Interesting plot here : some agencies have more cancel requests than other\n",
    "## Business idea, but not ML related, find out cancelling seasonality for each \"cancel-intensive\" agencies \n",
    "\n",
    "drawing = sns.catplot(\n",
    "    data = to_plot[to_plot[\"tot_count\"] >= 500], kind='bar',\n",
    "    x = 'agent', y='tot_count',hue='is_canceled'\n",
    ")\n",
    "\n",
    "drawing.set_xticklabels(rotation=90)"
   ]
  },
  {
   "cell_type": "code",
   "execution_count": null,
   "metadata": {},
   "outputs": [
    {
     "name": "stderr",
     "output_type": "stream",
     "text": [
      "C:\\Users\\PC\\AppData\\Local\\Temp\\ipykernel_18476\\615649269.py:2: SettingWithCopyWarning: \n",
      "A value is trying to be set on a copy of a slice from a DataFrame\n",
      "\n",
      "See the caveats in the documentation: https://pandas.pydata.org/pandas-docs/stable/user_guide/indexing.html#returning-a-view-versus-a-copy\n",
      "  cleaned_df.drop(columns=[\"agent\"],inplace=True)\n"
     ]
    }
   ],
   "source": [
    "## After further analysis, I will drop this agent column, because it has multiple categories, therefore weak predictive power (is it though ? hmm)\n",
    "cleaned_df.drop(columns=[\"agent\"],inplace=True)"
   ]
  },
  {
   "cell_type": "code",
   "execution_count": 969,
   "metadata": {},
   "outputs": [
    {
     "data": {
      "text/plain": [
       "(119390, 30)"
      ]
     },
     "execution_count": 969,
     "metadata": {},
     "output_type": "execute_result"
    }
   ],
   "source": [
    "cleaned_df.shape"
   ]
  },
  {
   "cell_type": "code",
   "execution_count": 970,
   "metadata": {},
   "outputs": [
    {
     "name": "stderr",
     "output_type": "stream",
     "text": [
      "C:\\Users\\PC\\AppData\\Local\\Temp\\ipykernel_18476\\1197043764.py:2: SettingWithCopyWarning: \n",
      "A value is trying to be set on a copy of a slice from a DataFrame\n",
      "\n",
      "See the caveats in the documentation: https://pandas.pydata.org/pandas-docs/stable/user_guide/indexing.html#returning-a-view-versus-a-copy\n",
      "  cleaned_df.dropna(inplace=True)\n"
     ]
    }
   ],
   "source": [
    "# For the other missing values (has_children, country). We will simply remove the rows\n",
    "cleaned_df.dropna(inplace=True)"
   ]
  },
  {
   "cell_type": "code",
   "execution_count": 971,
   "metadata": {},
   "outputs": [
    {
     "data": {
      "text/plain": [
       "(118898, 30)"
      ]
     },
     "execution_count": 971,
     "metadata": {},
     "output_type": "execute_result"
    }
   ],
   "source": [
    "## dataframe shape comparison after a 1st wave of cleaning\n",
    "cleaned_df.shape"
   ]
  },
  {
   "cell_type": "code",
   "execution_count": 972,
   "metadata": {},
   "outputs": [
    {
     "data": {
      "text/plain": [
       "hotel                             0\n",
       "is_canceled                       0\n",
       "lead_time                         0\n",
       "arrival_date_year                 0\n",
       "arrival_date_month                0\n",
       "arrival_date_week_number          0\n",
       "arrival_date_day_of_month         0\n",
       "stays_in_weekend_nights           0\n",
       "stays_in_week_nights              0\n",
       "adults                            0\n",
       "children                          0\n",
       "babies                            0\n",
       "meal                              0\n",
       "country                           0\n",
       "market_segment                    0\n",
       "distribution_channel              0\n",
       "is_repeated_guest                 0\n",
       "previous_cancellations            0\n",
       "previous_bookings_not_canceled    0\n",
       "reserved_room_type                0\n",
       "assigned_room_type                0\n",
       "booking_changes                   0\n",
       "deposit_type                      0\n",
       "days_in_waiting_list              0\n",
       "customer_type                     0\n",
       "adr                               0\n",
       "required_car_parking_spaces       0\n",
       "total_of_special_requests         0\n",
       "reservation_status                0\n",
       "reservation_status_date           0\n",
       "dtype: int64"
      ]
     },
     "execution_count": 972,
     "metadata": {},
     "output_type": "execute_result"
    }
   ],
   "source": [
    "cleaned_df.isna().sum()"
   ]
  },
  {
   "cell_type": "code",
   "execution_count": 973,
   "metadata": {},
   "outputs": [
    {
     "name": "stderr",
     "output_type": "stream",
     "text": [
      "C:\\Users\\PC\\AppData\\Local\\Temp\\ipykernel_18476\\1351466909.py:2: SettingWithCopyWarning: \n",
      "A value is trying to be set on a copy of a slice from a DataFrame\n",
      "\n",
      "See the caveats in the documentation: https://pandas.pydata.org/pandas-docs/stable/user_guide/indexing.html#returning-a-view-versus-a-copy\n",
      "  cleaned_df.drop(columns=[\"reservation_status\", \"reservation_status_date\", \"required_car_parking_spaces\", \"days_in_waiting_list\",\"reserved_room_type\",\"assigned_room_type\",\"customer_type\"],inplace=True)\n"
     ]
    }
   ],
   "source": [
    "## A heuristic, intuition-based decision to drop irrelevant columns for our prediction use-case\n",
    "cleaned_df.drop(columns=[\"reservation_status\", \"reservation_status_date\", \"required_car_parking_spaces\", \"days_in_waiting_list\",\"reserved_room_type\",\"assigned_room_type\",\"customer_type\"],inplace=True)"
   ]
  },
  {
   "cell_type": "code",
   "execution_count": null,
   "metadata": {},
   "outputs": [
    {
     "name": "stderr",
     "output_type": "stream",
     "text": [
      "C:\\Users\\PC\\AppData\\Local\\Temp\\ipykernel_18476\\2063517940.py:10: SettingWithCopyWarning: \n",
      "A value is trying to be set on a copy of a slice from a DataFrame.\n",
      "Try using .loc[row_indexer,col_indexer] = value instead\n",
      "\n",
      "See the caveats in the documentation: https://pandas.pydata.org/pandas-docs/stable/user_guide/indexing.html#returning-a-view-versus-a-copy\n",
      "  df['total_days_stayed'] = df['stays_in_weekend_nights'] + df['stays_in_week_nights']\n",
      "C:\\Users\\PC\\AppData\\Local\\Temp\\ipykernel_18476\\2063517940.py:11: SettingWithCopyWarning: \n",
      "A value is trying to be set on a copy of a slice from a DataFrame.\n",
      "Try using .loc[row_indexer,col_indexer] = value instead\n",
      "\n",
      "See the caveats in the documentation: https://pandas.pydata.org/pandas-docs/stable/user_guide/indexing.html#returning-a-view-versus-a-copy\n",
      "  df['total_guests'] = df['adults'] + df['children'] + df['babies']\n",
      "C:\\Users\\PC\\AppData\\Local\\Temp\\ipykernel_18476\\2063517940.py:12: SettingWithCopyWarning: \n",
      "A value is trying to be set on a copy of a slice from a DataFrame.\n",
      "Try using .loc[row_indexer,col_indexer] = value instead\n",
      "\n",
      "See the caveats in the documentation: https://pandas.pydata.org/pandas-docs/stable/user_guide/indexing.html#returning-a-view-versus-a-copy\n",
      "  df['has_baby'] = df['babies'].apply(lambda x:1 if x>0 else 0)\n",
      "C:\\Users\\PC\\AppData\\Local\\Temp\\ipykernel_18476\\2063517940.py:13: SettingWithCopyWarning: \n",
      "A value is trying to be set on a copy of a slice from a DataFrame.\n",
      "Try using .loc[row_indexer,col_indexer] = value instead\n",
      "\n",
      "See the caveats in the documentation: https://pandas.pydata.org/pandas-docs/stable/user_guide/indexing.html#returning-a-view-versus-a-copy\n",
      "  df['has_children'] = df['children'].apply(lambda x:1 if x>0 else 0)\n",
      "C:\\Users\\PC\\AppData\\Local\\Temp\\ipykernel_18476\\2063517940.py:14: SettingWithCopyWarning: \n",
      "A value is trying to be set on a copy of a slice from a DataFrame.\n",
      "Try using .loc[row_indexer,col_indexer] = value instead\n",
      "\n",
      "See the caveats in the documentation: https://pandas.pydata.org/pandas-docs/stable/user_guide/indexing.html#returning-a-view-versus-a-copy\n",
      "  df['meal'] = [0 if x in ['SC','Undefined'] else 1 if x == 'BB' else 2 if x == 'HB' else 3 for x in df[\"meal\"]]\n",
      "C:\\Users\\PC\\AppData\\Local\\Temp\\ipykernel_18476\\2063517940.py:17: SettingWithCopyWarning: \n",
      "A value is trying to be set on a copy of a slice from a DataFrame.\n",
      "Try using .loc[row_indexer,col_indexer] = value instead\n",
      "\n",
      "See the caveats in the documentation: https://pandas.pydata.org/pandas-docs/stable/user_guide/indexing.html#returning-a-view-versus-a-copy\n",
      "  df['is_OnlineTA'] = df['market_segment'].apply(lambda x: 1 if x == 'Online TA' else 0)\n",
      "C:\\Users\\PC\\AppData\\Local\\Temp\\ipykernel_18476\\2063517940.py:18: SettingWithCopyWarning: \n",
      "A value is trying to be set on a copy of a slice from a DataFrame.\n",
      "Try using .loc[row_indexer,col_indexer] = value instead\n",
      "\n",
      "See the caveats in the documentation: https://pandas.pydata.org/pandas-docs/stable/user_guide/indexing.html#returning-a-view-versus-a-copy\n",
      "  df['is_OfflineTATO'] = df['market_segment'].apply(lambda x: 1 if x == 'Offline TA/TO' else 0)\n",
      "C:\\Users\\PC\\AppData\\Local\\Temp\\ipykernel_18476\\2063517940.py:19: SettingWithCopyWarning: \n",
      "A value is trying to be set on a copy of a slice from a DataFrame.\n",
      "Try using .loc[row_indexer,col_indexer] = value instead\n",
      "\n",
      "See the caveats in the documentation: https://pandas.pydata.org/pandas-docs/stable/user_guide/indexing.html#returning-a-view-versus-a-copy\n",
      "  df['is_Groups'] = df['market_segment'].apply(lambda x: 1 if x == 'Groups' else 0)\n",
      "C:\\Users\\PC\\AppData\\Local\\Temp\\ipykernel_18476\\2063517940.py:20: SettingWithCopyWarning: \n",
      "A value is trying to be set on a copy of a slice from a DataFrame.\n",
      "Try using .loc[row_indexer,col_indexer] = value instead\n",
      "\n",
      "See the caveats in the documentation: https://pandas.pydata.org/pandas-docs/stable/user_guide/indexing.html#returning-a-view-versus-a-copy\n",
      "  df['is_OtherMarketSegment'] = df['market_segment'].apply(lambda x: 1 if x not in ['Online TA','Groups','Offline TA/TO'] else 0)\n",
      "C:\\Users\\PC\\AppData\\Local\\Temp\\ipykernel_18476\\2063517940.py:23: SettingWithCopyWarning: \n",
      "A value is trying to be set on a copy of a slice from a DataFrame.\n",
      "Try using .loc[row_indexer,col_indexer] = value instead\n",
      "\n",
      "See the caveats in the documentation: https://pandas.pydata.org/pandas-docs/stable/user_guide/indexing.html#returning-a-view-versus-a-copy\n",
      "  df[\"is_NoDeposit\"] = df[\"deposit_type\"].apply(lambda x: 1 if x == \"No Deposit\" else 0)\n",
      "C:\\Users\\PC\\AppData\\Local\\Temp\\ipykernel_18476\\2063517940.py:24: SettingWithCopyWarning: \n",
      "A value is trying to be set on a copy of a slice from a DataFrame.\n",
      "Try using .loc[row_indexer,col_indexer] = value instead\n",
      "\n",
      "See the caveats in the documentation: https://pandas.pydata.org/pandas-docs/stable/user_guide/indexing.html#returning-a-view-versus-a-copy\n",
      "  df[\"is_Refundable\"] = df[\"deposit_type\"].apply(lambda x: 1 if x == \"Refundable\" else 0)\n",
      "C:\\Users\\PC\\AppData\\Local\\Temp\\ipykernel_18476\\2063517940.py:25: SettingWithCopyWarning: \n",
      "A value is trying to be set on a copy of a slice from a DataFrame.\n",
      "Try using .loc[row_indexer,col_indexer] = value instead\n",
      "\n",
      "See the caveats in the documentation: https://pandas.pydata.org/pandas-docs/stable/user_guide/indexing.html#returning-a-view-versus-a-copy\n",
      "  df[\"is_NonRefund\"] = df[\"deposit_type\"].apply(lambda x: 1 if x == \"Non Refund\" else 0)\n",
      "C:\\Users\\PC\\AppData\\Local\\Temp\\ipykernel_18476\\2063517940.py:29: SettingWithCopyWarning: \n",
      "A value is trying to be set on a copy of a slice from a DataFrame.\n",
      "Try using .loc[row_indexer,col_indexer] = value instead\n",
      "\n",
      "See the caveats in the documentation: https://pandas.pydata.org/pandas-docs/stable/user_guide/indexing.html#returning-a-view-versus-a-copy\n",
      "  df[\"lead_time\"] = df[\"lead_time\"].apply(lambda x: int(ceil(x/10)*10)+10)\n",
      "C:\\Users\\PC\\AppData\\Local\\Temp\\ipykernel_18476\\2063517940.py:32: SettingWithCopyWarning: \n",
      "A value is trying to be set on a copy of a slice from a DataFrame.\n",
      "Try using .loc[row_indexer,col_indexer] = value instead\n",
      "\n",
      "See the caveats in the documentation: https://pandas.pydata.org/pandas-docs/stable/user_guide/indexing.html#returning-a-view-versus-a-copy\n",
      "  df['is_2015'] = df['arrival_date_year'].apply(lambda x:1 if x == 2015 else 0)\n",
      "C:\\Users\\PC\\AppData\\Local\\Temp\\ipykernel_18476\\2063517940.py:33: SettingWithCopyWarning: \n",
      "A value is trying to be set on a copy of a slice from a DataFrame.\n",
      "Try using .loc[row_indexer,col_indexer] = value instead\n",
      "\n",
      "See the caveats in the documentation: https://pandas.pydata.org/pandas-docs/stable/user_guide/indexing.html#returning-a-view-versus-a-copy\n",
      "  df['is_2016'] = df['arrival_date_year'].apply(lambda x:1 if x == 2016 else 0)\n",
      "C:\\Users\\PC\\AppData\\Local\\Temp\\ipykernel_18476\\2063517940.py:34: SettingWithCopyWarning: \n",
      "A value is trying to be set on a copy of a slice from a DataFrame.\n",
      "Try using .loc[row_indexer,col_indexer] = value instead\n",
      "\n",
      "See the caveats in the documentation: https://pandas.pydata.org/pandas-docs/stable/user_guide/indexing.html#returning-a-view-versus-a-copy\n",
      "  df['is_2017'] = df['arrival_date_year'].apply(lambda x:1 if x == 2017 else 0)\n",
      "C:\\Users\\PC\\AppData\\Local\\Temp\\ipykernel_18476\\2063517940.py:38: SettingWithCopyWarning: \n",
      "A value is trying to be set on a copy of a slice from a DataFrame.\n",
      "Try using .loc[row_indexer,col_indexer] = value instead\n",
      "\n",
      "See the caveats in the documentation: https://pandas.pydata.org/pandas-docs/stable/user_guide/indexing.html#returning-a-view-versus-a-copy\n",
      "  df['arrival_date_month'] = df['arrival_date_month'].apply(lambda x: month_map[x])\n",
      "C:\\Users\\PC\\AppData\\Local\\Temp\\ipykernel_18476\\2063517940.py:39: SettingWithCopyWarning: \n",
      "A value is trying to be set on a copy of a slice from a DataFrame.\n",
      "Try using .loc[row_indexer,col_indexer] = value instead\n",
      "\n",
      "See the caveats in the documentation: https://pandas.pydata.org/pandas-docs/stable/user_guide/indexing.html#returning-a-view-versus-a-copy\n",
      "  df['arrival_date_month_sin'] = round(sin((df['arrival_date_month']-1)*(2*pi/12)),2)\n",
      "C:\\Users\\PC\\AppData\\Local\\Temp\\ipykernel_18476\\2063517940.py:40: SettingWithCopyWarning: \n",
      "A value is trying to be set on a copy of a slice from a DataFrame.\n",
      "Try using .loc[row_indexer,col_indexer] = value instead\n",
      "\n",
      "See the caveats in the documentation: https://pandas.pydata.org/pandas-docs/stable/user_guide/indexing.html#returning-a-view-versus-a-copy\n",
      "  df['arrival_date_month_cos'] = round(cos((df['arrival_date_month']-1)*(2*pi/12)),2)\n",
      "C:\\Users\\PC\\AppData\\Local\\Temp\\ipykernel_18476\\2063517940.py:42: SettingWithCopyWarning: \n",
      "A value is trying to be set on a copy of a slice from a DataFrame.\n",
      "Try using .loc[row_indexer,col_indexer] = value instead\n",
      "\n",
      "See the caveats in the documentation: https://pandas.pydata.org/pandas-docs/stable/user_guide/indexing.html#returning-a-view-versus-a-copy\n",
      "  df['arrival_date_week_number_sin'] = round(sin((df['arrival_date_week_number']-1)*(2*pi/53)),2)\n",
      "C:\\Users\\PC\\AppData\\Local\\Temp\\ipykernel_18476\\2063517940.py:43: SettingWithCopyWarning: \n",
      "A value is trying to be set on a copy of a slice from a DataFrame.\n",
      "Try using .loc[row_indexer,col_indexer] = value instead\n",
      "\n",
      "See the caveats in the documentation: https://pandas.pydata.org/pandas-docs/stable/user_guide/indexing.html#returning-a-view-versus-a-copy\n",
      "  df['arrival_date_week_number_cos'] = round(cos((df['arrival_date_week_number']-1)*(2*pi/53)),2)\n",
      "C:\\Users\\PC\\AppData\\Local\\Temp\\ipykernel_18476\\2063517940.py:45: SettingWithCopyWarning: \n",
      "A value is trying to be set on a copy of a slice from a DataFrame.\n",
      "Try using .loc[row_indexer,col_indexer] = value instead\n",
      "\n",
      "See the caveats in the documentation: https://pandas.pydata.org/pandas-docs/stable/user_guide/indexing.html#returning-a-view-versus-a-copy\n",
      "  df['arrival_date_day_of_month_sin'] = round(sin((df['arrival_date_day_of_month']-1)*(2*pi/31)),2)\n",
      "C:\\Users\\PC\\AppData\\Local\\Temp\\ipykernel_18476\\2063517940.py:46: SettingWithCopyWarning: \n",
      "A value is trying to be set on a copy of a slice from a DataFrame.\n",
      "Try using .loc[row_indexer,col_indexer] = value instead\n",
      "\n",
      "See the caveats in the documentation: https://pandas.pydata.org/pandas-docs/stable/user_guide/indexing.html#returning-a-view-versus-a-copy\n",
      "  df['arrival_date_day_of_month_cos'] = round(cos((df['arrival_date_day_of_month']-1)*(2*pi/31)),2)\n"
     ]
    },
    {
     "name": "stdout",
     "output_type": "stream",
     "text": [
      "(118898, 29)\n"
     ]
    },
    {
     "name": "stderr",
     "output_type": "stream",
     "text": [
      "C:\\Users\\PC\\AppData\\Local\\Temp\\ipykernel_18476\\2063517940.py:51: SettingWithCopyWarning: \n",
      "A value is trying to be set on a copy of a slice from a DataFrame\n",
      "\n",
      "See the caveats in the documentation: https://pandas.pydata.org/pandas-docs/stable/user_guide/indexing.html#returning-a-view-versus-a-copy\n",
      "  df.drop(columns=[\"distribution_channel\",\"deposit_type\",\"market_segment\",\"meal\",\"country\",\"arrival_date_month\",\"arrival_date_week_number\",\"arrival_date_day_of_month\",\"stays_in_weekend_nights\",\"stays_in_week_nights\",\"arrival_date_year\",\"adults\",\"children\",\"babies\"],inplace=True)\n"
     ]
    }
   ],
   "source": [
    "\n",
    "## 1st feature engineering wave\n",
    "from numpy import sin, cos, pi, round, ceil\n",
    "import calendar\n",
    "def encoding_1(df):\n",
    "\n",
    "    # Aggregating some columns, transforming some others\n",
    "    df['total_days_stayed'] = df['stays_in_weekend_nights'] + df['stays_in_week_nights']\n",
    "    df['total_guests'] = df['adults'] + df['children'] + df['babies']\n",
    "    df['has_baby'] = df['babies'].apply(lambda x:1 if x>0 else 0)\n",
    "    df['has_children'] = df['children'].apply(lambda x:1 if x>0 else 0)\n",
    "    df['meal'] = [0 if x in ['SC','Undefined'] else 1 if x == 'BB' else 2 if x == 'HB' else 3 for x in df[\"meal\"]]\n",
    "    \n",
    "    # Binary-encoding of market-segment\n",
    "    df['is_OnlineTA'] = df['market_segment'].apply(lambda x: 1 if x == 'Online TA' else 0)\n",
    "    df['is_OfflineTATO'] = df['market_segment'].apply(lambda x: 1 if x == 'Offline TA/TO' else 0)\n",
    "    df['is_Groups'] = df['market_segment'].apply(lambda x: 1 if x == 'Groups' else 0)  \n",
    "    df['is_OtherMarketSegment'] = df['market_segment'].apply(lambda x: 1 if x not in ['Online TA','Groups','Offline TA/TO'] else 0)\n",
    "\n",
    "    # Binary-encoding of deposit-type\n",
    "    df[\"is_NoDeposit\"] = df[\"deposit_type\"].apply(lambda x: 1 if x == \"No Deposit\" else 0)\n",
    "    df[\"is_Refundable\"] = df[\"deposit_type\"].apply(lambda x: 1 if x == \"Refundable\" else 0)\n",
    "    df[\"is_NonRefund\"] = df[\"deposit_type\"].apply(lambda x: 1 if x == \"Non Refund\" else 0) \n",
    "    \n",
    "\n",
    "    # Lead time transformed into 10-day bins\n",
    "    df[\"lead_time\"] = df[\"lead_time\"].apply(lambda x: int(ceil(x/10)*10)+10)\n",
    "    \n",
    "    # Year hot encoded\n",
    "    df['is_2015'] = df['arrival_date_year'].apply(lambda x:1 if x == 2015 else 0)\n",
    "    df['is_2016'] = df['arrival_date_year'].apply(lambda x:1 if x == 2016 else 0)\n",
    "    df['is_2017'] = df['arrival_date_year'].apply(lambda x:1 if x == 2017 else 0)\n",
    "\n",
    "    # Processing datetime variables for cyclical encoding\n",
    "    month_map = {'January':1,'February':2,'March':3,'April':4,'May':5,'June':6,'July':7,'August':8,'September':9, 'October':10, 'November': 11, 'December':12}\n",
    "    df['arrival_date_month'] = df['arrival_date_month'].apply(lambda x: month_map[x])\n",
    "    df['arrival_date_month_sin'] = round(sin((df['arrival_date_month']-1)*(2*pi/12)),2)\n",
    "    df['arrival_date_month_cos'] = round(cos((df['arrival_date_month']-1)*(2*pi/12)),2)\n",
    "    \n",
    "    df['arrival_date_week_number_sin'] = round(sin((df['arrival_date_week_number']-1)*(2*pi/53)),2)\n",
    "    df['arrival_date_week_number_cos'] = round(cos((df['arrival_date_week_number']-1)*(2*pi/53)),2)\n",
    "    \n",
    "    df['arrival_date_day_of_month_sin'] = round(sin((df['arrival_date_day_of_month']-1)*(2*pi/31)),2)\n",
    "    df['arrival_date_day_of_month_cos'] = round(cos((df['arrival_date_day_of_month']-1)*(2*pi/31)),2)\n",
    "\n",
    "    for_visualisation = df.copy()\n",
    "\n",
    "    # Dropping the initial transformed columns\n",
    "    df.drop(columns=[\"distribution_channel\",\"deposit_type\",\"market_segment\",\"meal\",\"country\",\"arrival_date_month\",\"arrival_date_week_number\",\"arrival_date_day_of_month\",\"stays_in_weekend_nights\",\"stays_in_week_nights\",\"arrival_date_year\",\"adults\",\"children\",\"babies\"],inplace=True)\n",
    "\n",
    "    return df, for_visualisation\n",
    "\n",
    "cleaned_df_encoded, vis_cleaned_df = encoding_1(cleaned_df)\n",
    " \n",
    "print(cleaned_df_encoded.shape)"
   ]
  },
  {
   "cell_type": "code",
   "execution_count": 975,
   "metadata": {},
   "outputs": [
    {
     "name": "stdout",
     "output_type": "stream",
     "text": [
      "(118898, 29)\n",
      "(118898, 43)\n"
     ]
    }
   ],
   "source": [
    "print(cleaned_df_encoded.shape)\n",
    "print(vis_cleaned_df.shape)\n"
   ]
  },
  {
   "cell_type": "code",
   "execution_count": 976,
   "metadata": {},
   "outputs": [
    {
     "data": {
      "image/png": "[encoded data removed]",
      "text/plain": [
       "<Figure size 591.486x500 with 1 Axes>"
      ]
     },
     "metadata": {},
     "output_type": "display_data"
    }
   ],
   "source": [
    "def visualize_against_target(variable,over1000=False):\n",
    "    plot = duckdb.sql(\"\"\"SELECT {}, is_canceled, count(*) as tot\n",
    "                    FROM vis_cleaned_df\n",
    "                    GROUP BY {}, is_canceled \n",
    "                        ORDER BY tot DESC\n",
    "                        \"\"\".format(variable,variable)).df()\n",
    "    if over1000:\n",
    "            drawing = sns.catplot(\n",
    "        data = plot[plot[\"tot\"] >= 1000], kind='bar',\n",
    "        x = variable, y='tot',hue='is_canceled'\n",
    "    )\n",
    "    else : \n",
    "        drawing = sns.catplot(\n",
    "            data = plot, kind='bar',\n",
    "            x = variable, y='tot',hue='is_canceled'\n",
    "        )\n",
    "\n",
    "    drawing.set_xticklabels(rotation=90)        \n",
    "    \n",
    "\n",
    "\n",
    "visualize_against_target(\"distribution_channel\")"
   ]
  },
  {
   "cell_type": "code",
   "execution_count": 977,
   "metadata": {},
   "outputs": [
    {
     "data": {
      "image/png": "[encoded data removed]",
      "text/plain": [
       "<Figure size 511.111x500 with 1 Axes>"
      ]
     },
     "metadata": {},
     "output_type": "display_data"
    }
   ],
   "source": [
    "def visualize_distribution(variable,over1000=False):\n",
    "  plot = duckdb.sql(\"\"\"SELECT {}, count(*) AS tot\n",
    "                    FROM vis_cleaned_df\n",
    "                    GROUP BY {}\n",
    "                    ORDER BY tot DESC\n",
    "                  \"\"\".format(variable,variable)).df()\n",
    "  \n",
    "  if over1000 :\n",
    "    drawing = sns.catplot(\n",
    "      data = plot[plot[\"tot\"]>= 1000], kind='bar',\n",
    "      x = variable, y='tot'\n",
    "  )\n",
    "\n",
    "  else : \n",
    "    drawing = sns.catplot(\n",
    "        data = plot, kind='bar',\n",
    "        x = variable, y='tot'\n",
    "    )\n",
    "\n",
    "  drawing.set_xticklabels(rotation=90)\n",
    "\n",
    "visualize_distribution(\"lead_time\")"
   ]
  },
  {
   "cell_type": "code",
   "execution_count": 978,
   "metadata": {},
   "outputs": [
    {
     "data": {
      "image/png": "[encoded data removed]",
      "text/plain": [
       "<Figure size 591.486x500 with 1 Axes>"
      ]
     },
     "metadata": {},
     "output_type": "display_data"
    }
   ],
   "source": [
    "visualize_against_target(\"lead_time\",True)"
   ]
  },
  {
   "cell_type": "code",
   "execution_count": 979,
   "metadata": {},
   "outputs": [
    {
     "data": {
      "image/png": "[encoded data removed]",
      "text/plain": [
       "<Figure size 591.486x500 with 1 Axes>"
      ]
     },
     "metadata": {},
     "output_type": "display_data"
    }
   ],
   "source": [
    "visualize_against_target(\"is_repeated_guest\")"
   ]
  },
  {
   "cell_type": "code",
   "execution_count": 980,
   "metadata": {},
   "outputs": [
    {
     "name": "stdout",
     "output_type": "stream",
     "text": [
      "(118898, 29)\n"
     ]
    }
   ],
   "source": [
    "# Dataframe shape comparison\n",
    "print(cleaned_df_encoded.shape)"
   ]
  },
  {
   "cell_type": "code",
   "execution_count": 981,
   "metadata": {},
   "outputs": [
    {
     "data": {
      "text/html": [
       "<div>\n",
       "<style scoped>\n",
       "    .dataframe tbody tr th:only-of-type {\n",
       "        vertical-align: middle;\n",
       "    }\n",
       "\n",
       "    .dataframe tbody tr th {\n",
       "        vertical-align: top;\n",
       "    }\n",
       "\n",
       "    .dataframe thead th {\n",
       "        text-align: right;\n",
       "    }\n",
       "</style>\n",
       "<table border=\"1\" class=\"dataframe\">\n",
       "  <thead>\n",
       "    <tr style=\"text-align: right;\">\n",
       "      <th></th>\n",
       "      <th>hotel</th>\n",
       "      <th>is_canceled</th>\n",
       "      <th>lead_time</th>\n",
       "      <th>is_repeated_guest</th>\n",
       "      <th>previous_cancellations</th>\n",
       "      <th>previous_bookings_not_canceled</th>\n",
       "      <th>booking_changes</th>\n",
       "      <th>adr</th>\n",
       "      <th>total_of_special_requests</th>\n",
       "      <th>total_days_stayed</th>\n",
       "      <th>total_guests</th>\n",
       "      <th>has_baby</th>\n",
       "      <th>has_children</th>\n",
       "      <th>is_OnlineTA</th>\n",
       "      <th>is_OfflineTATO</th>\n",
       "      <th>is_Groups</th>\n",
       "      <th>is_OtherMarketSegment</th>\n",
       "      <th>is_NoDeposit</th>\n",
       "      <th>is_Refundable</th>\n",
       "      <th>is_NonRefund</th>\n",
       "      <th>is_2015</th>\n",
       "      <th>is_2016</th>\n",
       "      <th>is_2017</th>\n",
       "      <th>arrival_date_month_sin</th>\n",
       "      <th>arrival_date_month_cos</th>\n",
       "      <th>arrival_date_week_number_sin</th>\n",
       "      <th>arrival_date_week_number_cos</th>\n",
       "      <th>arrival_date_day_of_month_sin</th>\n",
       "      <th>arrival_date_day_of_month_cos</th>\n",
       "    </tr>\n",
       "  </thead>\n",
       "  <tbody>\n",
       "    <tr>\n",
       "      <th>0</th>\n",
       "      <td>Resort Hotel</td>\n",
       "      <td>0</td>\n",
       "      <td>360</td>\n",
       "      <td>0</td>\n",
       "      <td>0</td>\n",
       "      <td>0</td>\n",
       "      <td>3</td>\n",
       "      <td>0.0</td>\n",
       "      <td>0</td>\n",
       "      <td>0</td>\n",
       "      <td>2.0</td>\n",
       "      <td>0</td>\n",
       "      <td>0</td>\n",
       "      <td>0</td>\n",
       "      <td>0</td>\n",
       "      <td>0</td>\n",
       "      <td>1</td>\n",
       "      <td>1</td>\n",
       "      <td>0</td>\n",
       "      <td>0</td>\n",
       "      <td>1</td>\n",
       "      <td>0</td>\n",
       "      <td>0</td>\n",
       "      <td>0.0</td>\n",
       "      <td>-1.0</td>\n",
       "      <td>0.06</td>\n",
       "      <td>-1.0</td>\n",
       "      <td>0.0</td>\n",
       "      <td>1.0</td>\n",
       "    </tr>\n",
       "    <tr>\n",
       "      <th>1</th>\n",
       "      <td>Resort Hotel</td>\n",
       "      <td>0</td>\n",
       "      <td>750</td>\n",
       "      <td>0</td>\n",
       "      <td>0</td>\n",
       "      <td>0</td>\n",
       "      <td>4</td>\n",
       "      <td>0.0</td>\n",
       "      <td>0</td>\n",
       "      <td>0</td>\n",
       "      <td>2.0</td>\n",
       "      <td>0</td>\n",
       "      <td>0</td>\n",
       "      <td>0</td>\n",
       "      <td>0</td>\n",
       "      <td>0</td>\n",
       "      <td>1</td>\n",
       "      <td>1</td>\n",
       "      <td>0</td>\n",
       "      <td>0</td>\n",
       "      <td>1</td>\n",
       "      <td>0</td>\n",
       "      <td>0</td>\n",
       "      <td>0.0</td>\n",
       "      <td>-1.0</td>\n",
       "      <td>0.06</td>\n",
       "      <td>-1.0</td>\n",
       "      <td>0.0</td>\n",
       "      <td>1.0</td>\n",
       "    </tr>\n",
       "    <tr>\n",
       "      <th>2</th>\n",
       "      <td>Resort Hotel</td>\n",
       "      <td>0</td>\n",
       "      <td>20</td>\n",
       "      <td>0</td>\n",
       "      <td>0</td>\n",
       "      <td>0</td>\n",
       "      <td>0</td>\n",
       "      <td>75.0</td>\n",
       "      <td>0</td>\n",
       "      <td>1</td>\n",
       "      <td>1.0</td>\n",
       "      <td>0</td>\n",
       "      <td>0</td>\n",
       "      <td>0</td>\n",
       "      <td>0</td>\n",
       "      <td>0</td>\n",
       "      <td>1</td>\n",
       "      <td>1</td>\n",
       "      <td>0</td>\n",
       "      <td>0</td>\n",
       "      <td>1</td>\n",
       "      <td>0</td>\n",
       "      <td>0</td>\n",
       "      <td>0.0</td>\n",
       "      <td>-1.0</td>\n",
       "      <td>0.06</td>\n",
       "      <td>-1.0</td>\n",
       "      <td>0.0</td>\n",
       "      <td>1.0</td>\n",
       "    </tr>\n",
       "    <tr>\n",
       "      <th>3</th>\n",
       "      <td>Resort Hotel</td>\n",
       "      <td>0</td>\n",
       "      <td>30</td>\n",
       "      <td>0</td>\n",
       "      <td>0</td>\n",
       "      <td>0</td>\n",
       "      <td>0</td>\n",
       "      <td>75.0</td>\n",
       "      <td>0</td>\n",
       "      <td>1</td>\n",
       "      <td>1.0</td>\n",
       "      <td>0</td>\n",
       "      <td>0</td>\n",
       "      <td>0</td>\n",
       "      <td>0</td>\n",
       "      <td>0</td>\n",
       "      <td>1</td>\n",
       "      <td>1</td>\n",
       "      <td>0</td>\n",
       "      <td>0</td>\n",
       "      <td>1</td>\n",
       "      <td>0</td>\n",
       "      <td>0</td>\n",
       "      <td>0.0</td>\n",
       "      <td>-1.0</td>\n",
       "      <td>0.06</td>\n",
       "      <td>-1.0</td>\n",
       "      <td>0.0</td>\n",
       "      <td>1.0</td>\n",
       "    </tr>\n",
       "    <tr>\n",
       "      <th>4</th>\n",
       "      <td>Resort Hotel</td>\n",
       "      <td>0</td>\n",
       "      <td>30</td>\n",
       "      <td>0</td>\n",
       "      <td>0</td>\n",
       "      <td>0</td>\n",
       "      <td>0</td>\n",
       "      <td>98.0</td>\n",
       "      <td>1</td>\n",
       "      <td>2</td>\n",
       "      <td>2.0</td>\n",
       "      <td>0</td>\n",
       "      <td>0</td>\n",
       "      <td>1</td>\n",
       "      <td>0</td>\n",
       "      <td>0</td>\n",
       "      <td>0</td>\n",
       "      <td>1</td>\n",
       "      <td>0</td>\n",
       "      <td>0</td>\n",
       "      <td>1</td>\n",
       "      <td>0</td>\n",
       "      <td>0</td>\n",
       "      <td>0.0</td>\n",
       "      <td>-1.0</td>\n",
       "      <td>0.06</td>\n",
       "      <td>-1.0</td>\n",
       "      <td>0.0</td>\n",
       "      <td>1.0</td>\n",
       "    </tr>\n",
       "  </tbody>\n",
       "</table>\n",
       "</div>"
      ],
      "text/plain": [
       "          hotel  is_canceled  lead_time  is_repeated_guest  \\\n",
       "0  Resort Hotel            0        360                  0   \n",
       "1  Resort Hotel            0        750                  0   \n",
       "2  Resort Hotel            0         20                  0   \n",
       "3  Resort Hotel            0         30                  0   \n",
       "4  Resort Hotel            0         30                  0   \n",
       "\n",
       "   previous_cancellations  previous_bookings_not_canceled  booking_changes  \\\n",
       "0                       0                               0                3   \n",
       "1                       0                               0                4   \n",
       "2                       0                               0                0   \n",
       "3                       0                               0                0   \n",
       "4                       0                               0                0   \n",
       "\n",
       "    adr  total_of_special_requests  total_days_stayed  total_guests  has_baby  \\\n",
       "0   0.0                          0                  0           2.0         0   \n",
       "1   0.0                          0                  0           2.0         0   \n",
       "2  75.0                          0                  1           1.0         0   \n",
       "3  75.0                          0                  1           1.0         0   \n",
       "4  98.0                          1                  2           2.0         0   \n",
       "\n",
       "   has_children  is_OnlineTA  is_OfflineTATO  is_Groups  \\\n",
       "0             0            0               0          0   \n",
       "1             0            0               0          0   \n",
       "2             0            0               0          0   \n",
       "3             0            0               0          0   \n",
       "4             0            1               0          0   \n",
       "\n",
       "   is_OtherMarketSegment  is_NoDeposit  is_Refundable  is_NonRefund  is_2015  \\\n",
       "0                      1             1              0             0        1   \n",
       "1                      1             1              0             0        1   \n",
       "2                      1             1              0             0        1   \n",
       "3                      1             1              0             0        1   \n",
       "4                      0             1              0             0        1   \n",
       "\n",
       "   is_2016  is_2017  arrival_date_month_sin  arrival_date_month_cos  \\\n",
       "0        0        0                     0.0                    -1.0   \n",
       "1        0        0                     0.0                    -1.0   \n",
       "2        0        0                     0.0                    -1.0   \n",
       "3        0        0                     0.0                    -1.0   \n",
       "4        0        0                     0.0                    -1.0   \n",
       "\n",
       "   arrival_date_week_number_sin  arrival_date_week_number_cos  \\\n",
       "0                          0.06                          -1.0   \n",
       "1                          0.06                          -1.0   \n",
       "2                          0.06                          -1.0   \n",
       "3                          0.06                          -1.0   \n",
       "4                          0.06                          -1.0   \n",
       "\n",
       "   arrival_date_day_of_month_sin  arrival_date_day_of_month_cos  \n",
       "0                            0.0                            1.0  \n",
       "1                            0.0                            1.0  \n",
       "2                            0.0                            1.0  \n",
       "3                            0.0                            1.0  \n",
       "4                            0.0                            1.0  "
      ]
     },
     "execution_count": 981,
     "metadata": {},
     "output_type": "execute_result"
    }
   ],
   "source": [
    "cleaned_df_encoded.head()"
   ]
  },
  {
   "cell_type": "code",
   "execution_count": 982,
   "metadata": {},
   "outputs": [
    {
     "data": {
      "text/plain": [
       "['hotel',\n",
       " 'is_canceled',\n",
       " 'lead_time',\n",
       " 'is_repeated_guest',\n",
       " 'previous_cancellations',\n",
       " 'previous_bookings_not_canceled',\n",
       " 'booking_changes',\n",
       " 'adr',\n",
       " 'total_of_special_requests',\n",
       " 'total_days_stayed',\n",
       " 'total_guests',\n",
       " 'has_baby',\n",
       " 'has_children',\n",
       " 'is_OnlineTA',\n",
       " 'is_OfflineTATO',\n",
       " 'is_Groups',\n",
       " 'is_OtherMarketSegment',\n",
       " 'is_NoDeposit',\n",
       " 'is_Refundable',\n",
       " 'is_NonRefund',\n",
       " 'is_2015',\n",
       " 'is_2016',\n",
       " 'is_2017',\n",
       " 'arrival_date_month_sin',\n",
       " 'arrival_date_month_cos',\n",
       " 'arrival_date_week_number_sin',\n",
       " 'arrival_date_week_number_cos',\n",
       " 'arrival_date_day_of_month_sin',\n",
       " 'arrival_date_day_of_month_cos']"
      ]
     },
     "execution_count": 982,
     "metadata": {},
     "output_type": "execute_result"
    }
   ],
   "source": [
    "# EDA : Exploratory data analysis for each variable\n",
    "cleaned_df_encoded.columns.tolist()"
   ]
  },
  {
   "cell_type": "code",
   "execution_count": null,
   "metadata": {},
   "outputs": [
    {
     "name": "stdout",
     "output_type": "stream",
     "text": [
      "Explaining variable shape :  (118898, 27)\n",
      "Target variable shape : (118898,)\n"
     ]
    }
   ],
   "source": [
    "X = cleaned_df_encoded.drop(columns=[\"hotel\",\"is_canceled\"])\n",
    "y = cleaned_df_encoded[\"is_canceled\"]\n",
    "\n",
    "print(\"Explaining variable shape : \",X.shape)\n",
    "print(\"Target variable shape :\", y.shape)"
   ]
  },
  {
   "cell_type": "code",
   "execution_count": 1003,
   "metadata": {},
   "outputs": [],
   "source": [
    "## And now we go to feature selection\n",
    "from sklearn.model_selection import train_test_split, cross_val_score\n",
    "from sklearn.tree import DecisionTreeClassifier\n",
    "from sklearn.ensemble import RandomForestClassifier\n",
    "from sklearn.metrics import confusion_matrix, precision_recall_fscore_support\n",
    "import seaborn as sns\n",
    "from numpy import round\n",
    "\n",
    "X_train, X_test, y_train, y_test = train_test_split(X, y, test_size=0.20, random_state=42,stratify=y)\n",
    "\n",
    "\n",
    "dt = DecisionTreeClassifier(random_state=42)\n",
    "rf = RandomForestClassifier(random_state=42)\n",
    "\n",
    "def fit_predict(clf):\n",
    "    clf = clf.fit(X_train,y_train)\n",
    "    return clf.predict(X_test)\n",
    "\n",
    "def eval(clf):\n",
    "    y_pred = fit_predict(clf)\n",
    "    p, r, f1, supp = precision_recall_fscore_support(y_test,y_pred)\n",
    "    cm = confusion_matrix(y_test, y_pred,labels=[0,1])\n",
    "    return round(p,2), round(r,2), round(f1,2), supp, cm\n",
    "\n",
    "def plot_eval(clf):\n",
    "    p, r, f1, supp, cm = eval(clf)\n",
    "    print(f\"Evaluating {clf}\")\n",
    "    print(f\"Precision : {p}\\n\")\n",
    "    print(f\"Recall : {r}\\n\")\n",
    "    print(f\"F1-score : {f1}\\n\")\n",
    "    print(f\"Support : {supp}\\n\")\n",
    "    print(\"Plotting confusion matrix heatmap...\")\n",
    "    sns.heatmap(cm, annot=True, fmt= 'd')\n"
   ]
  },
  {
   "cell_type": "code",
   "execution_count": 1004,
   "metadata": {},
   "outputs": [
    {
     "name": "stdout",
     "output_type": "stream",
     "text": [
      "Evaluating DecisionTreeClassifier(random_state=42)\n",
      "Precision : [0.85 0.74]\n",
      "\n",
      "Recall : [0.84 0.75]\n",
      "\n",
      "F1-score : [0.85 0.75]\n",
      "\n",
      "Support : [14949  8831]\n",
      "\n",
      "Plotting confusion matrix heatmap...\n"
     ]
    },
    {
     "data": {
      "image/png": "[encoded data removed]",
      "text/plain": [
       "<Figure size 640x480 with 2 Axes>"
      ]
     },
     "metadata": {},
     "output_type": "display_data"
    }
   ],
   "source": [
    "plot_eval(dt)"
   ]
  },
  {
   "cell_type": "code",
   "execution_count": 1005,
   "metadata": {},
   "outputs": [
    {
     "name": "stdout",
     "output_type": "stream",
     "text": [
      "Evaluating RandomForestClassifier(random_state=42)\n",
      "Precision : [0.86 0.85]\n",
      "\n",
      "Recall : [0.92 0.74]\n",
      "\n",
      "F1-score : [0.89 0.79]\n",
      "\n",
      "Support : [14949  8831]\n",
      "\n",
      "Plotting confusion matrix heatmap...\n"
     ]
    },
    {
     "data": {
      "image/png": "[encoded data removed]",
      "text/plain": [
       "<Figure size 640x480 with 2 Axes>"
      ]
     },
     "metadata": {},
     "output_type": "display_data"
    }
   ],
   "source": [
    "plot_eval(rf)"
   ]
  },
  {
   "cell_type": "code",
   "execution_count": 1024,
   "metadata": {},
   "outputs": [],
   "source": [
    "def get_feature_importance(clf):\n",
    "    fi = {}\n",
    "    for i in range(X_train.shape[1]):\n",
    "        fi[X_train.columns.tolist()[i]] = round(clf.feature_importances_[i],3)\n",
    "    return sorted(fi.items(), key=lambda x:x[1])\n",
    "        #rf.feature_importances_"
   ]
  },
  {
   "cell_type": "code",
   "execution_count": 1025,
   "metadata": {},
   "outputs": [
    {
     "data": {
      "text/plain": [
       "[('is_NoDeposit', 0.0),\n",
       " ('is_Refundable', 0.0),\n",
       " ('is_repeated_guest', 0.001),\n",
       " ('has_baby', 0.001),\n",
       " ('is_Groups', 0.002),\n",
       " ('is_OtherMarketSegment', 0.002),\n",
       " ('is_OfflineTATO', 0.003),\n",
       " ('has_children', 0.005),\n",
       " ('is_2015', 0.006),\n",
       " ('is_2016', 0.006),\n",
       " ('previous_bookings_not_canceled', 0.008),\n",
       " ('is_2017', 0.009),\n",
       " ('arrival_date_month_cos', 0.01),\n",
       " ('arrival_date_month_sin', 0.011),\n",
       " ('booking_changes', 0.017),\n",
       " ('total_guests', 0.02),\n",
       " ('previous_cancellations', 0.033),\n",
       " ('arrival_date_week_number_cos', 0.034),\n",
       " ('arrival_date_week_number_sin', 0.037),\n",
       " ('is_OnlineTA', 0.04),\n",
       " ('total_of_special_requests', 0.057),\n",
       " ('arrival_date_day_of_month_cos', 0.059),\n",
       " ('total_days_stayed', 0.067),\n",
       " ('arrival_date_day_of_month_sin', 0.068),\n",
       " ('lead_time', 0.119),\n",
       " ('adr', 0.147),\n",
       " ('is_NonRefund', 0.238)]"
      ]
     },
     "execution_count": 1025,
     "metadata": {},
     "output_type": "execute_result"
    }
   ],
   "source": [
    "get_feature_importance(dt)"
   ]
  },
  {
   "cell_type": "code",
   "execution_count": 1026,
   "metadata": {},
   "outputs": [
    {
     "data": {
      "text/plain": [
       "[('has_baby', 0.001),\n",
       " ('is_Refundable', 0.001),\n",
       " ('is_repeated_guest', 0.002),\n",
       " ('previous_bookings_not_canceled', 0.004),\n",
       " ('has_children', 0.006),\n",
       " ('is_2017', 0.007),\n",
       " ('is_2015', 0.008),\n",
       " ('is_2016', 0.008),\n",
       " ('is_OfflineTATO', 0.01),\n",
       " ('is_Groups', 0.01),\n",
       " ('is_OtherMarketSegment', 0.011),\n",
       " ('arrival_date_month_sin', 0.017),\n",
       " ('arrival_date_month_cos', 0.017),\n",
       " ('booking_changes', 0.024),\n",
       " ('total_guests', 0.024),\n",
       " ('is_OnlineTA', 0.027),\n",
       " ('arrival_date_week_number_cos', 0.036),\n",
       " ('arrival_date_week_number_sin', 0.037),\n",
       " ('previous_cancellations', 0.04),\n",
       " ('arrival_date_day_of_month_cos', 0.059),\n",
       " ('total_of_special_requests', 0.066),\n",
       " ('arrival_date_day_of_month_sin', 0.066),\n",
       " ('total_days_stayed', 0.068),\n",
       " ('is_NoDeposit', 0.083),\n",
       " ('is_NonRefund', 0.098),\n",
       " ('adr', 0.134),\n",
       " ('lead_time', 0.136)]"
      ]
     },
     "execution_count": 1026,
     "metadata": {},
     "output_type": "execute_result"
    }
   ],
   "source": [
    "get_feature_importance(rf)"
   ]
  },
  {
   "cell_type": "code",
   "execution_count": null,
   "metadata": {},
   "outputs": [],
   "source": [
    "## Not much insight lol"
   ]
  }
 ],
 "metadata": {
  "kernelspec": {
   "display_name": "Python 3",
   "language": "python",
   "name": "python3"
  },
  "language_info": {
   "codemirror_mode": {
    "name": "ipython",
    "version": 3
   },
   "file_extension": ".py",
   "mimetype": "text/x-python",
   "name": "python",
   "nbconvert_exporter": "python",
   "pygments_lexer": "ipython3",
   "version": "3.12.3"
  }
 },
 "nbformat": 4,
 "nbformat_minor": 2
}
